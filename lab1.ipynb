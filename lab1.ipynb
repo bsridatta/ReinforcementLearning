{
 "cells": [
  {
   "cell_type": "markdown",
   "metadata": {},
   "source": [
    "# Notebook for lab 1 "
   ]
  },
  {
   "cell_type": "code",
   "execution_count": 10,
   "metadata": {},
   "outputs": [],
   "source": [
    "import numpy as np\n",
    "import maze_minotaur as mz \n",
    "import pandas as pd"
   ]
  },
  {
   "cell_type": "markdown",
   "metadata": {},
   "source": [
    "# Problem 1: The Maze and the Random Minotaur\n",
    "The objective of problem 1 is to solve the shortest path problem in a maze. We start first by describing the maze as a numpy array. "
   ]
  },
  {
   "cell_type": "code",
   "execution_count": 11,
   "metadata": {},
   "outputs": [],
   "source": [
    "# Description of the maze as a numpy array\n",
    "maze = np.array([\n",
    "    [ 0,  0,  1,  0,  0,  0,  0,  0],\n",
    "    [ 0,  0,  1,  0,  0,  1,  0,  0],\n",
    "    [ 0,  0,  1,  0,  0,  1,  1,  1],\n",
    "    [ 0,  0,  1,  0,  0,  1,  0,  0],\n",
    "    [ 0,  0,  0,  0,  0,  0,  0,  0],\n",
    "    [ 0,  1,  1,  1,  1,  1,  1,  0],\n",
    "    [ 0,  0,  0,  0,  1,  2,  0,  0]\n",
    "])\n",
    "# with the convention \n",
    "# 0 = empty cell\n",
    "# 1 = obstacle\n",
    "# 2 = exit of the Maze"
   ]
  },
  {
   "cell_type": "markdown",
   "metadata": {},
   "source": [
    "The method `maze.draw_maze()` helps us draw the maze given its numpy array discription.  "
   ]
  },
  {
   "cell_type": "code",
   "execution_count": 12,
   "metadata": {},
   "outputs": [
    {
     "data": {
      "image/png": "[encoded data removed]",
      "image/svg+xml": "<?xml version=\"1.0\" encoding=\"utf-8\" standalone=\"no\"?>\n<!DOCTYPE svg PUBLIC \"-//W3C//DTD SVG 1.1//EN\"\n  \"http://www.w3.org/Graphics/SVG/1.1/DTD/svg11.dtd\">\n<!-- Created with matplotlib (https://matplotlib.org/) -->\n<svg height=\"413.538125pt\" version=\"1.1\" viewBox=\"0 0 464.3 413.538125\" width=\"464.3pt\" xmlns=\"http://www.w3.org/2000/svg\" xmlns:xlink=\"http://www.w3.org/1999/xlink\">\n <defs>\n  <style type=\"text/css\">\n*{stroke-linecap:butt;stroke-linejoin:round;}\n  </style>\n </defs>\n <g id=\"figure_1\">\n  <g id=\"patch_1\">\n   <path d=\"M 0 413.538125 \nL 464.3 413.538125 \nL 464.3 0 \nL 0 0 \nz\n\" style=\"fill:none;\"/>\n  </g>\n  <g id=\"axes_1\">\n   <g id=\"patch_2\">\n    <path d=\"M 10.7 402.838125 \nL 457.1 402.838125 \nL 457.1 22.318125 \nL 10.7 22.318125 \nz\n\" style=\"fill:#ffffff;\"/>\n   </g>\n   <g id=\"table_1\">\n    <g id=\"patch_3\">\n     <path d=\"M 10.7 76.678125 \nL 66.5 76.678125 \nL 66.5 22.318125 \nL 10.7 22.318125 \nz\n\" style=\"fill:#ffffff;stroke:#000000;stroke-linejoin:miter;\"/>\n    </g>\n    <g id=\"patch_4\">\n     <path d=\"M 66.5 76.678125 \nL 122.3 76.678125 \nL 122.3 22.318125 \nL 66.5 22.318125 \nz\n\" style=\"fill:#ffffff;stroke:#000000;stroke-linejoin:miter;\"/>\n    </g>\n    <g id=\"patch_5\">\n     <path d=\"M 122.3 76.678125 \nL 178.1 76.678125 \nL 178.1 22.318125 \nL 122.3 22.318125 \nz\n\" style=\"stroke:#000000;stroke-linejoin:miter;\"/>\n    </g>\n    <g id=\"patch_6\">\n     <path d=\"M 178.1 76.678125 \nL 233.9 76.678125 \nL 233.9 22.318125 \nL 178.1 22.318125 \nz\n\" style=\"fill:#ffffff;stroke:#000000;stroke-linejoin:miter;\"/>\n    </g>\n    <g id=\"patch_7\">\n     <path d=\"M 233.9 76.678125 \nL 289.7 76.678125 \nL 289.7 22.318125 \nL 233.9 22.318125 \nz\n\" style=\"fill:#ffffff;stroke:#000000;stroke-linejoin:miter;\"/>\n    </g>\n    <g id=\"patch_8\">\n     <path d=\"M 289.7 76.678125 \nL 345.5 76.678125 \nL 345.5 22.318125 \nL 289.7 22.318125 \nz\n\" style=\"fill:#ffffff;stroke:#000000;stroke-linejoin:miter;\"/>\n    </g>\n    <g id=\"patch_9\">\n     <path d=\"M 345.5 76.678125 \nL 401.3 76.678125 \nL 401.3 22.318125 \nL 345.5 22.318125 \nz\n\" style=\"fill:#ffffff;stroke:#000000;stroke-linejoin:miter;\"/>\n    </g>\n    <g id=\"patch_10\">\n     <path d=\"M 401.3 76.678125 \nL 457.1 76.678125 \nL 457.1 22.318125 \nL 401.3 22.318125 \nz\n\" style=\"fill:#ffffff;stroke:#000000;stroke-linejoin:miter;\"/>\n    </g>\n    <g id=\"patch_11\">\n     <path d=\"M 10.7 131.038125 \nL 66.5 131.038125 \nL 66.5 76.678125 \nL 10.7 76.678125 \nz\n\" style=\"fill:#ffffff;stroke:#000000;stroke-linejoin:miter;\"/>\n    </g>\n    <g id=\"patch_12\">\n     <path d=\"M 66.5 131.038125 \nL 122.3 131.038125 \nL 122.3 76.678125 \nL 66.5 76.678125 \nz\n\" style=\"fill:#ffffff;stroke:#000000;stroke-linejoin:miter;\"/>\n    </g>\n    <g id=\"patch_13\">\n     <path d=\"M 122.3 131.038125 \nL 178.1 131.038125 \nL 178.1 76.678125 \nL 122.3 76.678125 \nz\n\" style=\"stroke:#000000;stroke-linejoin:miter;\"/>\n    </g>\n    <g id=\"patch_14\">\n     <path d=\"M 178.1 131.038125 \nL 233.9 131.038125 \nL 233.9 76.678125 \nL 178.1 76.678125 \nz\n\" style=\"fill:#ffffff;stroke:#000000;stroke-linejoin:miter;\"/>\n    </g>\n    <g id=\"patch_15\">\n     <path d=\"M 233.9 131.038125 \nL 289.7 131.038125 \nL 289.7 76.678125 \nL 233.9 76.678125 \nz\n\" style=\"fill:#ffffff;stroke:#000000;stroke-linejoin:miter;\"/>\n    </g>\n    <g id=\"patch_16\">\n     <path d=\"M 289.7 131.038125 \nL 345.5 131.038125 \nL 345.5 76.678125 \nL 289.7 76.678125 \nz\n\" style=\"stroke:#000000;stroke-linejoin:miter;\"/>\n    </g>\n    <g id=\"patch_17\">\n     <path d=\"M 345.5 131.038125 \nL 401.3 131.038125 \nL 401.3 76.678125 \nL 345.5 76.678125 \nz\n\" style=\"fill:#ffffff;stroke:#000000;stroke-linejoin:miter;\"/>\n    </g>\n    <g id=\"patch_18\">\n     <path d=\"M 401.3 131.038125 \nL 457.1 131.038125 \nL 457.1 76.678125 \nL 401.3 76.678125 \nz\n\" style=\"fill:#ffffff;stroke:#000000;stroke-linejoin:miter;\"/>\n    </g>\n    <g id=\"patch_19\">\n     <path d=\"M 10.7 185.398125 \nL 66.5 185.398125 \nL 66.5 131.038125 \nL 10.7 131.038125 \nz\n\" style=\"fill:#ffffff;stroke:#000000;stroke-linejoin:miter;\"/>\n    </g>\n    <g id=\"patch_20\">\n     <path d=\"M 66.5 185.398125 \nL 122.3 185.398125 \nL 122.3 131.038125 \nL 66.5 131.038125 \nz\n\" style=\"fill:#ffffff;stroke:#000000;stroke-linejoin:miter;\"/>\n    </g>\n    <g id=\"patch_21\">\n     <path d=\"M 122.3 185.398125 \nL 178.1 185.398125 \nL 178.1 131.038125 \nL 122.3 131.038125 \nz\n\" style=\"stroke:#000000;stroke-linejoin:miter;\"/>\n    </g>\n    <g id=\"patch_22\">\n     <path d=\"M 178.1 185.398125 \nL 233.9 185.398125 \nL 233.9 131.038125 \nL 178.1 131.038125 \nz\n\" style=\"fill:#ffffff;stroke:#000000;stroke-linejoin:miter;\"/>\n    </g>\n    <g id=\"patch_23\">\n     <path d=\"M 233.9 185.398125 \nL 289.7 185.398125 \nL 289.7 131.038125 \nL 233.9 131.038125 \nz\n\" style=\"fill:#ffffff;stroke:#000000;stroke-linejoin:miter;\"/>\n    </g>\n    <g id=\"patch_24\">\n     <path d=\"M 289.7 185.398125 \nL 345.5 185.398125 \nL 345.5 131.038125 \nL 289.7 131.038125 \nz\n\" style=\"stroke:#000000;stroke-linejoin:miter;\"/>\n    </g>\n    <g id=\"patch_25\">\n     <path d=\"M 345.5 185.398125 \nL 401.3 185.398125 \nL 401.3 131.038125 \nL 345.5 131.038125 \nz\n\" style=\"stroke:#000000;stroke-linejoin:miter;\"/>\n    </g>\n    <g id=\"patch_26\">\n     <path d=\"M 401.3 185.398125 \nL 457.1 185.398125 \nL 457.1 131.038125 \nL 401.3 131.038125 \nz\n\" style=\"stroke:#000000;stroke-linejoin:miter;\"/>\n    </g>\n    <g id=\"patch_27\">\n     <path d=\"M 10.7 239.758125 \nL 66.5 239.758125 \nL 66.5 185.398125 \nL 10.7 185.398125 \nz\n\" style=\"fill:#ffffff;stroke:#000000;stroke-linejoin:miter;\"/>\n    </g>\n    <g id=\"patch_28\">\n     <path d=\"M 66.5 239.758125 \nL 122.3 239.758125 \nL 122.3 185.398125 \nL 66.5 185.398125 \nz\n\" style=\"fill:#ffffff;stroke:#000000;stroke-linejoin:miter;\"/>\n    </g>\n    <g id=\"patch_29\">\n     <path d=\"M 122.3 239.758125 \nL 178.1 239.758125 \nL 178.1 185.398125 \nL 122.3 185.398125 \nz\n\" style=\"stroke:#000000;stroke-linejoin:miter;\"/>\n    </g>\n    <g id=\"patch_30\">\n     <path d=\"M 178.1 239.758125 \nL 233.9 239.758125 \nL 233.9 185.398125 \nL 178.1 185.398125 \nz\n\" style=\"fill:#ffffff;stroke:#000000;stroke-linejoin:miter;\"/>\n    </g>\n    <g id=\"patch_31\">\n     <path d=\"M 233.9 239.758125 \nL 289.7 239.758125 \nL 289.7 185.398125 \nL 233.9 185.398125 \nz\n\" style=\"fill:#ffffff;stroke:#000000;stroke-linejoin:miter;\"/>\n    </g>\n    <g id=\"patch_32\">\n     <path d=\"M 289.7 239.758125 \nL 345.5 239.758125 \nL 345.5 185.398125 \nL 289.7 185.398125 \nz\n\" style=\"stroke:#000000;stroke-linejoin:miter;\"/>\n    </g>\n    <g id=\"patch_33\">\n     <path d=\"M 345.5 239.758125 \nL 401.3 239.758125 \nL 401.3 185.398125 \nL 345.5 185.398125 \nz\n\" style=\"fill:#ffffff;stroke:#000000;stroke-linejoin:miter;\"/>\n    </g>\n    <g id=\"patch_34\">\n     <path d=\"M 401.3 239.758125 \nL 457.1 239.758125 \nL 457.1 185.398125 \nL 401.3 185.398125 \nz\n\" style=\"fill:#ffffff;stroke:#000000;stroke-linejoin:miter;\"/>\n    </g>\n    <g id=\"patch_35\">\n     <path d=\"M 10.7 294.118125 \nL 66.5 294.118125 \nL 66.5 239.758125 \nL 10.7 239.758125 \nz\n\" style=\"fill:#ffffff;stroke:#000000;stroke-linejoin:miter;\"/>\n    </g>\n    <g id=\"patch_36\">\n     <path d=\"M 66.5 294.118125 \nL 122.3 294.118125 \nL 122.3 239.758125 \nL 66.5 239.758125 \nz\n\" style=\"fill:#ffffff;stroke:#000000;stroke-linejoin:miter;\"/>\n    </g>\n    <g id=\"patch_37\">\n     <path d=\"M 122.3 294.118125 \nL 178.1 294.118125 \nL 178.1 239.758125 \nL 122.3 239.758125 \nz\n\" style=\"fill:#ffffff;stroke:#000000;stroke-linejoin:miter;\"/>\n    </g>\n    <g id=\"patch_38\">\n     <path d=\"M 178.1 294.118125 \nL 233.9 294.118125 \nL 233.9 239.758125 \nL 178.1 239.758125 \nz\n\" style=\"fill:#ffffff;stroke:#000000;stroke-linejoin:miter;\"/>\n    </g>\n    <g id=\"patch_39\">\n     <path d=\"M 233.9 294.118125 \nL 289.7 294.118125 \nL 289.7 239.758125 \nL 233.9 239.758125 \nz\n\" style=\"fill:#ffffff;stroke:#000000;stroke-linejoin:miter;\"/>\n    </g>\n    <g id=\"patch_40\">\n     <path d=\"M 289.7 294.118125 \nL 345.5 294.118125 \nL 345.5 239.758125 \nL 289.7 239.758125 \nz\n\" style=\"fill:#ffffff;stroke:#000000;stroke-linejoin:miter;\"/>\n    </g>\n    <g id=\"patch_41\">\n     <path d=\"M 345.5 294.118125 \nL 401.3 294.118125 \nL 401.3 239.758125 \nL 345.5 239.758125 \nz\n\" style=\"fill:#ffffff;stroke:#000000;stroke-linejoin:miter;\"/>\n    </g>\n    <g id=\"patch_42\">\n     <path d=\"M 401.3 294.118125 \nL 457.1 294.118125 \nL 457.1 239.758125 \nL 401.3 239.758125 \nz\n\" style=\"fill:#ffffff;stroke:#000000;stroke-linejoin:miter;\"/>\n    </g>\n    <g id=\"patch_43\">\n     <path d=\"M 10.7 348.478125 \nL 66.5 348.478125 \nL 66.5 294.118125 \nL 10.7 294.118125 \nz\n\" style=\"fill:#ffffff;stroke:#000000;stroke-linejoin:miter;\"/>\n    </g>\n    <g id=\"patch_44\">\n     <path d=\"M 66.5 348.478125 \nL 122.3 348.478125 \nL 122.3 294.118125 \nL 66.5 294.118125 \nz\n\" style=\"stroke:#000000;stroke-linejoin:miter;\"/>\n    </g>\n    <g id=\"patch_45\">\n     <path d=\"M 122.3 348.478125 \nL 178.1 348.478125 \nL 178.1 294.118125 \nL 122.3 294.118125 \nz\n\" style=\"stroke:#000000;stroke-linejoin:miter;\"/>\n    </g>\n    <g id=\"patch_46\">\n     <path d=\"M 178.1 348.478125 \nL 233.9 348.478125 \nL 233.9 294.118125 \nL 178.1 294.118125 \nz\n\" style=\"stroke:#000000;stroke-linejoin:miter;\"/>\n    </g>\n    <g id=\"patch_47\">\n     <path d=\"M 233.9 348.478125 \nL 289.7 348.478125 \nL 289.7 294.118125 \nL 233.9 294.118125 \nz\n\" style=\"stroke:#000000;stroke-linejoin:miter;\"/>\n    </g>\n    <g id=\"patch_48\">\n     <path d=\"M 289.7 348.478125 \nL 345.5 348.478125 \nL 345.5 294.118125 \nL 289.7 294.118125 \nz\n\" style=\"stroke:#000000;stroke-linejoin:miter;\"/>\n    </g>\n    <g id=\"patch_49\">\n     <path d=\"M 345.5 348.478125 \nL 401.3 348.478125 \nL 401.3 294.118125 \nL 345.5 294.118125 \nz\n\" style=\"stroke:#000000;stroke-linejoin:miter;\"/>\n    </g>\n    <g id=\"patch_50\">\n     <path d=\"M 401.3 348.478125 \nL 457.1 348.478125 \nL 457.1 294.118125 \nL 401.3 294.118125 \nz\n\" style=\"fill:#ffffff;stroke:#000000;stroke-linejoin:miter;\"/>\n    </g>\n    <g id=\"patch_51\">\n     <path d=\"M 10.7 402.838125 \nL 66.5 402.838125 \nL 66.5 348.478125 \nL 10.7 348.478125 \nz\n\" style=\"fill:#ffffff;stroke:#000000;stroke-linejoin:miter;\"/>\n    </g>\n    <g id=\"patch_52\">\n     <path d=\"M 66.5 402.838125 \nL 122.3 402.838125 \nL 122.3 348.478125 \nL 66.5 348.478125 \nz\n\" style=\"fill:#ffffff;stroke:#000000;stroke-linejoin:miter;\"/>\n    </g>\n    <g id=\"patch_53\">\n     <path d=\"M 122.3 402.838125 \nL 178.1 402.838125 \nL 178.1 348.478125 \nL 122.3 348.478125 \nz\n\" style=\"fill:#ffffff;stroke:#000000;stroke-linejoin:miter;\"/>\n    </g>\n    <g id=\"patch_54\">\n     <path d=\"M 178.1 402.838125 \nL 233.9 402.838125 \nL 233.9 348.478125 \nL 178.1 348.478125 \nz\n\" style=\"fill:#ffffff;stroke:#000000;stroke-linejoin:miter;\"/>\n    </g>\n    <g id=\"patch_55\">\n     <path d=\"M 233.9 402.838125 \nL 289.7 402.838125 \nL 289.7 348.478125 \nL 233.9 348.478125 \nz\n\" style=\"stroke:#000000;stroke-linejoin:miter;\"/>\n    </g>\n    <g id=\"patch_56\">\n     <path d=\"M 289.7 402.838125 \nL 345.5 402.838125 \nL 345.5 348.478125 \nL 289.7 348.478125 \nz\n\" style=\"fill:#95fd99;stroke:#000000;stroke-linejoin:miter;\"/>\n    </g>\n    <g id=\"patch_57\">\n     <path d=\"M 345.5 402.838125 \nL 401.3 402.838125 \nL 401.3 348.478125 \nL 345.5 348.478125 \nz\n\" style=\"fill:#ffffff;stroke:#000000;stroke-linejoin:miter;\"/>\n    </g>\n    <g id=\"patch_58\">\n     <path d=\"M 401.3 402.838125 \nL 457.1 402.838125 \nL 457.1 348.478125 \nL 401.3 348.478125 \nz\n\" style=\"fill:#ffffff;stroke:#000000;stroke-linejoin:miter;\"/>\n    </g>\n   </g>\n   <g id=\"matplotlib.axis_1\"/>\n   <g id=\"matplotlib.axis_2\"/>\n   <g id=\"patch_59\">\n    <path d=\"M 10.7 402.838125 \nL 10.7 22.318125 \n\" style=\"fill:none;stroke:#000000;stroke-linecap:square;stroke-linejoin:miter;stroke-width:0.8;\"/>\n   </g>\n   <g id=\"patch_60\">\n    <path d=\"M 457.1 402.838125 \nL 457.1 22.318125 \n\" style=\"fill:none;stroke:#000000;stroke-linecap:square;stroke-linejoin:miter;stroke-width:0.8;\"/>\n   </g>\n   <g id=\"patch_61\">\n    <path d=\"M 10.7 402.838125 \nL 457.1 402.838125 \n\" style=\"fill:none;stroke:#000000;stroke-linecap:square;stroke-linejoin:miter;stroke-width:0.8;\"/>\n   </g>\n   <g id=\"patch_62\">\n    <path d=\"M 10.7 22.318125 \nL 457.1 22.318125 \n\" style=\"fill:none;stroke:#000000;stroke-linecap:square;stroke-linejoin:miter;stroke-width:0.8;\"/>\n   </g>\n   <g id=\"text_1\">\n    <!-- The Maze -->\n    <defs>\n     <path d=\"M -0.296875 72.90625 \nL 61.375 72.90625 \nL 61.375 64.59375 \nL 35.5 64.59375 \nL 35.5 0 \nL 25.59375 0 \nL 25.59375 64.59375 \nL -0.296875 64.59375 \nz\n\" id=\"DejaVuSans-84\"/>\n     <path d=\"M 54.890625 33.015625 \nL 54.890625 0 \nL 45.90625 0 \nL 45.90625 32.71875 \nQ 45.90625 40.484375 42.875 44.328125 \nQ 39.84375 48.1875 33.796875 48.1875 \nQ 26.515625 48.1875 22.3125 43.546875 \nQ 18.109375 38.921875 18.109375 30.90625 \nL 18.109375 0 \nL 9.078125 0 \nL 9.078125 75.984375 \nL 18.109375 75.984375 \nL 18.109375 46.1875 \nQ 21.34375 51.125 25.703125 53.5625 \nQ 30.078125 56 35.796875 56 \nQ 45.21875 56 50.046875 50.171875 \nQ 54.890625 44.34375 54.890625 33.015625 \nz\n\" id=\"DejaVuSans-104\"/>\n     <path d=\"M 56.203125 29.59375 \nL 56.203125 25.203125 \nL 14.890625 25.203125 \nQ 15.484375 15.921875 20.484375 11.0625 \nQ 25.484375 6.203125 34.421875 6.203125 \nQ 39.59375 6.203125 44.453125 7.46875 \nQ 49.3125 8.734375 54.109375 11.28125 \nL 54.109375 2.78125 \nQ 49.265625 0.734375 44.1875 -0.34375 \nQ 39.109375 -1.421875 33.890625 -1.421875 \nQ 20.796875 -1.421875 13.15625 6.1875 \nQ 5.515625 13.8125 5.515625 26.8125 \nQ 5.515625 40.234375 12.765625 48.109375 \nQ 20.015625 56 32.328125 56 \nQ 43.359375 56 49.78125 48.890625 \nQ 56.203125 41.796875 56.203125 29.59375 \nz\nM 47.21875 32.234375 \nQ 47.125 39.59375 43.09375 43.984375 \nQ 39.0625 48.390625 32.421875 48.390625 \nQ 24.90625 48.390625 20.390625 44.140625 \nQ 15.875 39.890625 15.1875 32.171875 \nz\n\" id=\"DejaVuSans-101\"/>\n     <path id=\"DejaVuSans-32\"/>\n     <path d=\"M 9.8125 72.90625 \nL 24.515625 72.90625 \nL 43.109375 23.296875 \nL 61.8125 72.90625 \nL 76.515625 72.90625 \nL 76.515625 0 \nL 66.890625 0 \nL 66.890625 64.015625 \nL 48.09375 14.015625 \nL 38.1875 14.015625 \nL 19.390625 64.015625 \nL 19.390625 0 \nL 9.8125 0 \nz\n\" id=\"DejaVuSans-77\"/>\n     <path d=\"M 34.28125 27.484375 \nQ 23.390625 27.484375 19.1875 25 \nQ 14.984375 22.515625 14.984375 16.5 \nQ 14.984375 11.71875 18.140625 8.90625 \nQ 21.296875 6.109375 26.703125 6.109375 \nQ 34.1875 6.109375 38.703125 11.40625 \nQ 43.21875 16.703125 43.21875 25.484375 \nL 43.21875 27.484375 \nz\nM 52.203125 31.203125 \nL 52.203125 0 \nL 43.21875 0 \nL 43.21875 8.296875 \nQ 40.140625 3.328125 35.546875 0.953125 \nQ 30.953125 -1.421875 24.3125 -1.421875 \nQ 15.921875 -1.421875 10.953125 3.296875 \nQ 6 8.015625 6 15.921875 \nQ 6 25.140625 12.171875 29.828125 \nQ 18.359375 34.515625 30.609375 34.515625 \nL 43.21875 34.515625 \nL 43.21875 35.40625 \nQ 43.21875 41.609375 39.140625 45 \nQ 35.0625 48.390625 27.6875 48.390625 \nQ 23 48.390625 18.546875 47.265625 \nQ 14.109375 46.140625 10.015625 43.890625 \nL 10.015625 52.203125 \nQ 14.9375 54.109375 19.578125 55.046875 \nQ 24.21875 56 28.609375 56 \nQ 40.484375 56 46.34375 49.84375 \nQ 52.203125 43.703125 52.203125 31.203125 \nz\n\" id=\"DejaVuSans-97\"/>\n     <path d=\"M 5.515625 54.6875 \nL 48.1875 54.6875 \nL 48.1875 46.484375 \nL 14.40625 7.171875 \nL 48.1875 7.171875 \nL 48.1875 0 \nL 4.296875 0 \nL 4.296875 8.203125 \nL 38.09375 47.515625 \nL 5.515625 47.515625 \nz\n\" id=\"DejaVuSans-122\"/>\n    </defs>\n    <g transform=\"translate(205.139375 16.318125)scale(0.12 -0.12)\">\n     <use xlink:href=\"#DejaVuSans-84\"/>\n     <use x=\"61.083984\" xlink:href=\"#DejaVuSans-104\"/>\n     <use x=\"124.462891\" xlink:href=\"#DejaVuSans-101\"/>\n     <use x=\"185.986328\" xlink:href=\"#DejaVuSans-32\"/>\n     <use x=\"217.773438\" xlink:href=\"#DejaVuSans-77\"/>\n     <use x=\"304.052734\" xlink:href=\"#DejaVuSans-97\"/>\n     <use x=\"365.332031\" xlink:href=\"#DejaVuSans-122\"/>\n     <use x=\"417.822266\" xlink:href=\"#DejaVuSans-101\"/>\n    </g>\n   </g>\n  </g>\n </g>\n</svg>\n",
      "text/plain": "<Figure size 576x504 with 1 Axes>"
     },
     "metadata": {},
     "output_type": "display_data"
    }
   ],
   "source": [
    "mz.draw_maze(maze)"
   ]
  },
  {
   "cell_type": "code",
   "execution_count": 13,
   "metadata": {},
   "outputs": [],
   "source": [
    "# Create an environment maze\n",
    "env = mz.Maze(maze)\n",
    "# env.show()"
   ]
  },
  {
   "cell_type": "code",
   "execution_count": 14,
   "metadata": {},
   "outputs": [],
   "source": [
    "# Finite horizon\n",
    "horizon = 16\n",
    "# Solve the MDP problem with dynamic programming \n",
    "V, policy= mz.dynamic_programming(env,horizon)"
   ]
  },
  {
   "cell_type": "code",
   "execution_count": 0,
   "metadata": {},
   "outputs": [],
   "source": [
    "print(len(env.states))"
   ]
  },
  {
   "cell_type": "code",
   "execution_count": 0,
   "metadata": {},
   "outputs": [],
   "source": [
    "# Simulate the shortest path starting from position A\n",
    "method = 'DynProg'\n",
    "start  = (0,0,6,5)\n",
    "path = env.simulate(start, policy, method)"
   ]
  },
  {
   "cell_type": "code",
   "execution_count": 0,
   "metadata": {},
   "outputs": [],
   "source": [
    "# Show the shortest path \n",
    "mz.animate_solution(maze, path)"
   ]
  },
  {
   "cell_type": "code",
   "execution_count": 0,
   "metadata": {},
   "outputs": [],
   "source": [
    "path"
   ]
  },
  {
   "cell_type": "code",
   "execution_count": null,
   "metadata": {},
   "outputs": [],
   "source": []
  }
 ],
 "metadata": {
  "@webio": {
   "lastCommId": null,
   "lastKernelId": null
  },
  "kernelspec": {
   "display_name": "Python 3",
   "language": "python",
   "name": "python3"
  },
  "language_info": {
   "codemirror_mode": {
    "name": "ipython",
    "version": 3
   },
   "file_extension": ".py",
   "mimetype": "text/x-python",
   "name": "python",
   "nbconvert_exporter": "python",
   "pygments_lexer": "ipython3",
   "version": "3.7.3"
  }
 },
 "nbformat": 4,
 "nbformat_minor": 2
}