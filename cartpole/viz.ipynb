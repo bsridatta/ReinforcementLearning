{
 "nbformat": 4,
 "nbformat_minor": 2,
 "metadata": {
  "language_info": {
   "name": "python",
   "codemirror_mode": {
    "name": "ipython",
    "version": 3
   },
   "version": "3.7.3"
  },
  "orig_nbformat": 2,
  "file_extension": ".py",
  "mimetype": "text/x-python",
  "name": "python",
  "npconvert_exporter": "python",
  "pygments_lexer": "ipython3",
  "version": 3
 },
 "cells": [
  {
   "cell_type": "code",
   "execution_count": 35,
   "metadata": {},
   "outputs": [],
   "source": [
    "import os\n",
    "import numpy as np\n",
    "import seaborn as sns\n",
    "from matplotlib import pyplot as plt"
   ]
  },
  {
   "cell_type": "code",
   "execution_count": 2,
   "metadata": {},
   "outputs": [],
   "source": [
    "# all hyperparameters and metrics logged\n",
    "cats = {'qvalues': \"Q Value\", 'scores':\"Score\"}\n",
    "\n",
    "hparams = {'layers':'# Layers', 'discount':'Discount Factor',\\\n",
    "           'freq':'Update Frequency', 'lr':'Learning Rate',\\\n",
    "           'neurons': \"# Neurons\", 'mem': \"Memory Size\"}\n",
    "defaults = {'layers':1, 'discount':0.95,\\\n",
    "           'freq':1, 'lr':0.005,\\\n",
    "           'neurons': 16, 'mem': 1000}"
   ]
  },
  {
   "cell_type": "code",
   "execution_count": 38,
   "metadata": {},
   "outputs": [],
   "source": [
    "def plot(hparam, cat):\n",
    "    _ = plt.rcParams[\"figure.figsize\"] = (7,7)\n",
    "    _ = plt.tick_params(axis='both', which='both', labelsize=14)\n",
    "\n",
    "    files = {}\n",
    "    for file in os.listdir(\"cartpole/pickles/\"):\n",
    "        if hparam in file and cat in file:\n",
    "            # Get the parameter value\n",
    "            val = '.'.join(file.split(hparam+'_')[1].split('.')[0:-1])\n",
    "\n",
    "            # Default key is arr_0, arr_1, ....\n",
    "            files[val] = np.load(f'cartpole/pickles/{file}')['arr_0']\n",
    "        elif \"layers_1\" in file and cat in file:\n",
    "            val = str(defaults[hparam])\n",
    "            files[val] = np.load(f'cartpole/pickles/{file}')['arr_0']\n",
    "\n",
    "    # sort the labels\n",
    "    sorted_files = dict(sorted(files.items(), key=lambda x: float(x[0])))\n",
    "    sns.set()\n",
    "    _ = plt.xlabel(cats[cat], fontsize=14)\n",
    "    _ = plt.ylabel(\"Density\", fontsize=14)\n",
    "\n",
    "    for x in sorted_files.keys():\n",
    "        _ = sns.distplot(files[x], label=x, \n",
    "                         hist=False, bins=200)\n",
    "    _ = plt.legend(title=hparams[hparam], fontsize=14)\n",
    "    _ = plt.savefig(f'cartpole/vizs/{hparam}_{cat}.png', bbox_inches='tight')\n",
    "    _ = plt.clf()\n",
    "    print(f\"Done {hparam}, {cat} - {sorted_files.keys()}\")"
   ]
  },
  {
   "cell_type": "code",
   "execution_count": 39,
   "metadata": {},
   "outputs": [
    {
     "name": "stdout",
     "output_type": "stream",
     "text": "Done layers, qvalues - dict_keys(['1', '2', '3'])\nDone discount, qvalues - dict_keys(['0.5', '0.7', '0.95'])\nDone freq, qvalues - dict_keys(['1', '10', '50', '100'])\nDone lr, qvalues - dict_keys(['0.001', '0.005', '0.025'])\nDone neurons, qvalues - dict_keys(['8', '16', '32'])\nDone mem, qvalues - dict_keys(['200', '500', '1000', '2000'])\nDone layers, scores - dict_keys(['1', '2', '3'])\nDone discount, scores - dict_keys(['0.5', '0.7', '0.95'])\nDone freq, scores - dict_keys(['1', '10', '50', '100'])\nDone lr, scores - dict_keys(['0.001', '0.005', '0.025'])\nDone neurons, scores - dict_keys(['8', '16', '32'])\nDone mem, scores - dict_keys(['200', '500', '1000', '2000'])\n"
    },
    {
     "data": {
      "text/plain": "<Figure size 504x504 with 0 Axes>"
     },
     "metadata": {},
     "output_type": "display_data"
    }
   ],
   "source": [
    "for cat in cats.keys():\n",
    "    for hparam in hparams.keys():\n",
    "        plot(hparam, cat)"
   ]
  },
  {
   "cell_type": "code",
   "execution_count": null,
   "metadata": {},
   "outputs": [],
   "source": []
  }
 ]
}