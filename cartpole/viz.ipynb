{
 "nbformat": 4,
 "nbformat_minor": 2,
 "metadata": {
  "language_info": {
   "name": "python",
   "codemirror_mode": {
    "name": "ipython",
    "version": 3
   },
   "version": "3.7.3"
  },
  "orig_nbformat": 2,
  "file_extension": ".py",
  "mimetype": "text/x-python",
  "name": "python",
  "npconvert_exporter": "python",
  "pygments_lexer": "ipython3",
  "version": 3
 },
 "cells": [
  {
   "cell_type": "code",
   "execution_count": 2,
   "metadata": {},
   "outputs": [],
   "source": [
    "import os\n",
    "import numpy as np\n",
    "import seaborn as sns\n",
    "from matplotlib import pyplot as plt"
   ]
  },
  {
   "cell_type": "code",
   "execution_count": 89,
   "metadata": {},
   "outputs": [],
   "source": [
    "# all hyperparameters and metrics logged\n",
    "cats = {'qvalues': \"Q Value\", 'scores':\"Score\"}\n",
    "\n",
    "hparams = {'layers':'# Layers', 'discount':'Discount Factor',\\\n",
    "           'freq':'Update Frequency', 'lr':'Learning Rate',\\\n",
    "           'neurons': \"# Neurons\", 'mem': \"Memory Size\"}"
   ]
  },
  {
   "cell_type": "code",
   "execution_count": 127,
   "metadata": {},
   "outputs": [],
   "source": [
    "def plot(hparam, cat):\n",
    "    files = {}\n",
    "    for file in os.listdir(\"cartpole/pickles/\"):\n",
    "        if hparam in file and cat in file:\n",
    "            # Get the parameter value\n",
    "            val = file.split(hparam+'_')[1].split('.')[0]\n",
    "            # Default key is arr_0, arr_1, ....\n",
    "            files[val] = np.load(f'cartpole/pickles/{file}')['arr_0']\n",
    "    # sort the labels\n",
    "    files = dict(sorted(files.items()))\n",
    "    sns.set()\n",
    "    _ = plt.xlabel(cats[cat])\n",
    "    _ = plt.ylabel(\"Density\")\n",
    "\n",
    "    for x in files.keys():\n",
    "        _ = sns.distplot(files[x], label=x, \n",
    "                         hist=False, bins=200)\n",
    "    _ = plt.legend(title=hparams[hparam])\n",
    "    _ = plt.savefig(f'cartpole/vizs/{hparam}.png')\n",
    "    _ = plt.clf()\n",
    "    print(f\"Done {hparam} - {files.keys()}\")"
   ]
  },
  {
   "cell_type": "code",
   "execution_count": 128,
   "metadata": {},
   "outputs": [
    {
     "name": "stderr",
     "output_type": "stream",
     "text": "No handles with labels found to put in legend.\nDone layers - dict_keys(['1', '2', '3'])\nDone discount - dict_keys([])\nDone freq - dict_keys(['10', '100', '50'])\nNo handles with labels found to put in legend.\nDone lr - dict_keys(['0'])\nDone neurons - dict_keys([])\nDone mem - dict_keys(['200', '2000', '500'])\nNo handles with labels found to put in legend.\nDone layers - dict_keys(['1', '2', '3'])\nDone discount - dict_keys([])\nDone freq - dict_keys(['10', '100', '50'])\nNo handles with labels found to put in legend.\nDone lr - dict_keys(['0'])\nDone neurons - dict_keys([])\nDone mem - dict_keys(['200', '2000', '500'])\n"
    },
    {
     "data": {
      "text/plain": "<Figure size 432x288 with 0 Axes>"
     },
     "metadata": {},
     "output_type": "display_data"
    }
   ],
   "source": [
    "for cat in cats.keys():\n",
    "    for hparam in hparams.keys():\n",
    "        plot(hparam, cat)"
   ]
  },
  {
   "cell_type": "code",
   "execution_count": null,
   "metadata": {},
   "outputs": [],
   "source": []
  }
 ]
}